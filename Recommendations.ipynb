{
  "nbformat": 4,
  "nbformat_minor": 0,
  "metadata": {
    "colab": {
      "name": "Recommendations.ipynb",
      "provenance": []
    },
    "kernelspec": {
      "name": "python3",
      "display_name": "Python 3"
    }
  },
  "cells": [
    {
      "cell_type": "code",
      "metadata": {
        "id": "xmSHE28jUBY8",
        "colab_type": "code",
        "colab": {}
      },
      "source": [
        "%%capture\n",
        "# Special libraries used\n",
        "!pip install pyreclab                     # For ALS based candidate generation\n",
        "!pip install tf-nightly-gpu-2.0-preview   # For GPU usage, neural networks"
      ],
      "execution_count": 0,
      "outputs": []
    },
    {
      "cell_type": "code",
      "metadata": {
        "id": "xlRrwpbEYWMB",
        "colab_type": "code",
        "colab": {
          "base_uri": "https://localhost:8080/",
          "height": 118
        },
        "outputId": "7eccde7f-5914-4a5c-c1bb-8050e13bd6be"
      },
      "source": [
        "!curl -L -o efficientnetb5.zip https://www.dropbox.com/s/lnwqi1ledieejk0/efficientnetb5.zip?dl=1\n",
        "# Get EfficientNetB5 embeddings\n",
        "!unzip -q efficientnetb5.zip"
      ],
      "execution_count": 2,
      "outputs": [
        {
          "output_type": "stream",
          "text": [
            "  % Total    % Received % Xferd  Average Speed   Time    Time     Time  Current\n",
            "                                 Dload  Upload   Total   Spent    Left  Speed\n",
            "\r  0     0    0     0    0     0      0      0 --:--:-- --:--:-- --:--:--     0\r  0     0    0     0    0     0      0      0 --:--:-- --:--:-- --:--:--     0\r  0     0    0     0    0     0      0      0 --:--:-- --:--:-- --:--:--     0\n",
            "  0     0    0     0    0     0      0      0 --:--:-- --:--:-- --:--:--     0\n",
            "100  172M  100  172M    0     0   783k      0  0:03:46  0:03:46 --:--:-- 14.2M\n",
            "replace features/201408068.npy? [y]es, [n]o, [A]ll, [N]one, [r]ename: A\n"
          ],
          "name": "stdout"
        }
      ]
    },
    {
      "cell_type": "code",
      "metadata": {
        "id": "xP1toG_cCz_i",
        "colab_type": "code",
        "outputId": "7635be34-ed6d-46b8-f536-7ebaa09e5af0",
        "colab": {
          "base_uri": "https://localhost:8080/",
          "height": 269
        }
      },
      "source": [
        "!curl -L -o quality.csv https://www.dropbox.com/s/rskwcrxg1gyhbw1/quality.csv?dl=1\n",
        "# Get quality for each Wikimedia picture\n",
        "!curl -L -o train_test.json https://www.dropbox.com/s/jt2nqszbctaw9ec/train_test.json?dl=1\n",
        "# Get train and test f-ile\n",
        "!curl -L -o training.csv https://www.dropbox.com/s/incixyku24e8hxx/training.csv?dl=1\n",
        "# Get training data"
      ],
      "execution_count": 3,
      "outputs": [
        {
          "output_type": "stream",
          "text": [
            "  % Total    % Received % Xferd  Average Speed   Time    Time     Time  Current\n",
            "                                 Dload  Upload   Total   Spent    Left  Speed\n",
            "\r  0     0    0     0    0     0      0      0 --:--:-- --:--:-- --:--:--     0\r  0     0    0     0    0     0      0      0 --:--:-- --:--:-- --:--:--     0\r  0     0    0     0    0     0      0      0 --:--:-- --:--:-- --:--:--     0\n",
            "  0     0    0     0    0     0      0      0 --:--:-- --:--:-- --:--:--     0\n",
            "100  912k  100  912k    0     0   273k      0  0:00:03  0:00:03 --:--:--  454k\n",
            "  % Total    % Received % Xferd  Average Speed   Time    Time     Time  Current\n",
            "                                 Dload  Upload   Total   Spent    Left  Speed\n",
            "  0     0    0     0    0     0      0      0 --:--:-- --:--:-- --:--:--     0\n",
            "  0     0    0     0    0     0      0      0 --:--:-- --:--:-- --:--:--     0\n",
            "100 4976k  100 4976k    0     0   441k      0  0:00:11  0:00:11 --:--:--  501k\n",
            "  % Total    % Received % Xferd  Average Speed   Time    Time     Time  Current\n",
            "                                 Dload  Upload   Total   Spent    Left  Speed\n",
            "  0     0    0     0    0     0      0      0 --:--:-- --:--:-- --:--:--     0\n",
            "  0     0    0     0    0     0      0      0 --:--:-- --:--:-- --:--:--     0\n",
            "100 2430k  100 2430k    0     0   389k      0  0:00:06  0:00:06 --:--:--  451k\n"
          ],
          "name": "stdout"
        }
      ]
    },
    {
      "cell_type": "code",
      "metadata": {
        "id": "DVDT6P38F7sv",
        "colab_type": "code",
        "colab": {}
      },
      "source": [
        "from sklearn.metrics.pairwise import cosine_similarity\n",
        "import pyreclab as rec\n",
        "import tensorflow as tf\n",
        "import pandas as pd\n",
        "import numpy as np\n",
        "import json\n",
        "import os"
      ],
      "execution_count": 0,
      "outputs": []
    },
    {
      "cell_type": "code",
      "metadata": {
        "id": "OKCq0Q38KufA",
        "colab_type": "code",
        "colab": {}
      },
      "source": [
        "# Loading train and test data\n",
        "\n",
        "with open(\"train_test.json\", \"r\") as train_file: \n",
        "  train = json.load(train_file)\n",
        "quality = pd.read_csv(\"quality.csv\")\n",
        "quality[\"id\"] = quality[\"id\"].astype(str)\n",
        "\n",
        "# Fixing training data to match pyreclab requirements\n",
        "training = pd.read_csv(\"training.csv\")\n",
        "training[\"rating\"] = 1\n",
        "\n",
        "try:\n",
        "  training = training.drop([\"timestamp\"], axis=1)\n",
        "except KeyError:\n",
        "  pass\n",
        "\n",
        "training.drop_duplicates(inplace=True)\n",
        "training.to_csv(\"training.csv\", index=False)\n",
        "\n",
        "# training.head()"
      ],
      "execution_count": 0,
      "outputs": []
    },
    {
      "cell_type": "code",
      "metadata": {
        "id": "3Rcp8l0lgzAM",
        "colab_type": "code",
        "colab": {}
      },
      "source": [
        "# Creating testing to match pyreclab\n",
        "with open(\"testset.csv\", \"w\") as test:\n",
        "  test.write(\"user,image_id,rating\\n\")\n",
        "  for item in train[\"test\"].items():\n",
        "    test.write(\"{},{},1\\n\".format(item[0], item[1][0]))"
      ],
      "execution_count": 0,
      "outputs": []
    },
    {
      "cell_type": "code",
      "metadata": {
        "id": "ts2ejVafLt3o",
        "colab_type": "code",
        "colab": {}
      },
      "source": [
        "# Create dictionary containing features for each image\n",
        "# Features appear in individual files\n",
        "# Depending on file amount, this may take a while\n",
        "features = dict()\n",
        "for feature in os.listdir(\"features\"):\n",
        "  features.update({int(feature.split('.')[0]): np.load(\"features/\" + feature)[0]})"
      ],
      "execution_count": 0,
      "outputs": []
    },
    {
      "cell_type": "code",
      "metadata": {
        "id": "jkAOxpD3Yeku",
        "colab_type": "code",
        "colab": {}
      },
      "source": [
        "# We now attempt to apply ALS, a CF algorithm to recommend images to users\n",
        "# Because ALS is a type of Matrix factorization, this may also take a while\n",
        "ALS = rec.IFAlsConjugateGradient(dataset = \"training.csv\",\n",
        "                                 dlmchar=b',',\n",
        "                                 header=True,\n",
        "                                 usercol=0,\n",
        "                                 itemcol=1,\n",
        "                                 observationcol=2)\n",
        "\n",
        "ALS.train(100, 20, 10)"
      ],
      "execution_count": 0,
      "outputs": []
    },
    {
      "cell_type": "code",
      "metadata": {
        "id": "VCquZ9-KnXUk",
        "colab_type": "code",
        "colab": {
          "base_uri": "https://localhost:8080/",
          "height": 84
        },
        "outputId": "1194a4d5-b40a-4968-e39a-5ad3b8e8236c"
      },
      "source": [
        "topn = 100\n",
        "base_total = 0\n",
        "base_ret = 0\n",
        "total = 0\n",
        "\n",
        "for item in train[\"test\"]:\n",
        "  try:\n",
        "    recs = ALS.recommend(item, topn)\n",
        "    if str(train[\"test\"][item][0]) in recs:\n",
        "      total += 1\n",
        "    base_total += topn\n",
        "    base_ret += 1\n",
        "  except ValueError:\n",
        "    pass\n",
        "    \n",
        "pak = total/base_total\n",
        "rak = total/base_ret\n",
        "f1ak = 2 * (pak * rak) / (pak + rak)\n",
        "print(\"Precision: {}\\nRecall: {}\\nF1-Score: {}\\n\".format(pak, rak, f1ak))"
      ],
      "execution_count": 10,
      "outputs": [
        {
          "output_type": "stream",
          "text": [
            "Precision: 0.0012974976830398518\n",
            "Recall: 0.12974976830398516\n",
            "F1-Score: 0.0025693023426531718\n",
            "\n"
          ],
          "name": "stdout"
        }
      ]
    },
    {
      "cell_type": "code",
      "metadata": {
        "id": "uhDEjfusx0G9",
        "colab_type": "code",
        "colab": {}
      },
      "source": [
        "def get_user_likes(user, data, features):\n",
        "  images = data[data[\"user\"] == user][\"image_id\"]\n",
        "  return np.matrix([x.flatten() for x in images.map(features)])\n",
        "\n",
        "def get_corpus(CF, user, features, amount):\n",
        "  corpus = CF.recommend(user, amount)\n",
        "  feats = [(x, features[int(x)]) for x in corpus]\n",
        "  return feats\n",
        "\n",
        "def get_features_from_corpus(corpus):\n",
        "  return np.matrix([x[1].flatten() for x in corpus])\n",
        "\n",
        "def similarity(item, user_items):\n",
        "  return np.asarray(cosine_similarity([item], user_items))\n",
        "\n",
        "def average(available_items, user_items):\n",
        "  sims = cosine_similarity(available_items, user_items)\n",
        "  return np.mean(sims, axis=1)"
      ],
      "execution_count": 0,
      "outputs": []
    },
    {
      "cell_type": "code",
      "metadata": {
        "id": "FhZyW2Bn1y_d",
        "colab_type": "code",
        "colab": {}
      },
      "source": [
        "def recommend(CF, user_id, data, embeddings, corpus_amount, amount):\n",
        "  user_features = get_user_likes(int(user_id), data, embeddings)\n",
        "  user_candidates = get_corpus(CF, user_id, embeddings, corpus_amount)\n",
        "  sims = average(get_features_from_corpus(user_candidates), user_features)\n",
        "  cands = {x[0]: sims[index] for index, x in enumerate(user_candidates)}\n",
        "  values = pd.DataFrame.from_dict(cands, orient='index')\n",
        "  return values.nlargest(amount, columns=0).index.values\n",
        "\n",
        "#recommend(ALS, \"11\", training, features, 2000, 100)"
      ],
      "execution_count": 0,
      "outputs": []
    },
    {
      "cell_type": "code",
      "metadata": {
        "id": "ekHeIh4h0r1D",
        "colab_type": "code",
        "colab": {
          "base_uri": "https://localhost:8080/",
          "height": 84
        },
        "outputId": "c6eca8c8-32b1-4370-bd99-4b69a786f117"
      },
      "source": [
        "topn = 100\n",
        "base_total = 0\n",
        "base_ret = 0\n",
        "total = 0\n",
        "\n",
        "for item in train[\"test\"]:\n",
        "  try:\n",
        "    recs = recommend(ALS, item, training, features, 2000, topn)\n",
        "    if str(train[\"test\"][item][0]) in recs:\n",
        "      total += 1\n",
        "    base_total += topn\n",
        "    base_ret += 1\n",
        "  except ValueError:\n",
        "    pass\n",
        "    \n",
        "pak = total/base_total\n",
        "rak = total/base_ret\n",
        "f1ak = 2 * (pak * rak) / (pak + rak)\n",
        "print(\"Precision: {}\\nRecall: {}\\nF1-Score: {}\\n\".format(pak, rak, f1ak))"
      ],
      "execution_count": 133,
      "outputs": [
        {
          "output_type": "stream",
          "text": [
            "Precision: 0.00026876737720111214\n",
            "Recall: 0.026876737720111215\n",
            "F1-Score: 0.0005322126281210141\n",
            "\n"
          ],
          "name": "stdout"
        }
      ]
    },
    {
      "cell_type": "code",
      "metadata": {
        "id": "4I9Sy2V0Grcl",
        "colab_type": "code",
        "colab": {}
      },
      "source": [
        "def recommend_quality(CF, user_id, data, embeddings, corpus_amount, amount, quality):\n",
        "  user_features = get_user_likes(int(user_id), data, embeddings)\n",
        "  user_candidates = get_corpus(CF, user_id, embeddings, corpus_amount)\n",
        "  sims = average(get_features_from_corpus(user_candidates), user_features)\n",
        "  cands = {str(x[0]): sims[index] for index, x in enumerate(user_candidates)}\n",
        "  values = pd.DataFrame.from_dict(cands, orient='index', columns=[\"value\"])\n",
        "  xd = values.merge(quality, how=\"left\", left_index=True, right_on=\"id\")\n",
        "  xd[\"final\"] = xd[\"value\"] * xd[\"quality\"]\n",
        "  return xd.nlargest(amount, columns=[\"final\"]).id.values\n",
        "\n",
        "#recommend_quality(ALS, \"11\", training, features, 2000, 100, quality)"
      ],
      "execution_count": 0,
      "outputs": []
    },
    {
      "cell_type": "code",
      "metadata": {
        "id": "W6XH0ilFHCjU",
        "colab_type": "code",
        "colab": {
          "base_uri": "https://localhost:8080/",
          "height": 84
        },
        "outputId": "0814bd22-d3d1-4305-de8b-357adb777a61"
      },
      "source": [
        "topn = 100\n",
        "base_total = 0\n",
        "base_ret = 0\n",
        "total = 0\n",
        "\n",
        "for item in train[\"test\"]:\n",
        "  try:\n",
        "    recs = recommend_quality(ALS, item, training, features, 2000, topn, quality)\n",
        "    if str(train[\"test\"][item][0]) in recs:\n",
        "      total += 1\n",
        "    base_total += topn\n",
        "    base_ret += 1\n",
        "  except ValueError:\n",
        "    pass\n",
        "    \n",
        "pak = total/base_total\n",
        "rak = total/base_ret\n",
        "f1ak = 2 * (pak * rak) / (pak + rak)\n",
        "print(\"Precision: {}\\nRecall: {}\\nF1-Score: {}\\n\".format(pak, rak, f1ak))"
      ],
      "execution_count": 218,
      "outputs": [
        {
          "output_type": "stream",
          "text": [
            "Precision: 0.0002502316960148285\n",
            "Recall: 0.025023169601482854\n",
            "F1-Score: 0.0004955083089402545\n",
            "\n"
          ],
          "name": "stdout"
        }
      ]
    },
    {
      "cell_type": "code",
      "metadata": {
        "id": "fngrWPe0IJWe",
        "colab_type": "code",
        "colab": {
          "base_uri": "https://localhost:8080/",
          "height": 402
        },
        "outputId": "afea3bde-fe0a-4999-cbfa-3d8d1f9c76ac"
      },
      "source": [
        "quality"
      ],
      "execution_count": 161,
      "outputs": [
        {
          "output_type": "execute_result",
          "data": {
            "text/html": [
              "<div>\n",
              "<style scoped>\n",
              "    .dataframe tbody tr th:only-of-type {\n",
              "        vertical-align: middle;\n",
              "    }\n",
              "\n",
              "    .dataframe tbody tr th {\n",
              "        vertical-align: top;\n",
              "    }\n",
              "\n",
              "    .dataframe thead th {\n",
              "        text-align: right;\n",
              "    }\n",
              "</style>\n",
              "<table border=\"1\" class=\"dataframe\">\n",
              "  <thead>\n",
              "    <tr style=\"text-align: right;\">\n",
              "      <th></th>\n",
              "      <th>id</th>\n",
              "      <th>quality</th>\n",
              "    </tr>\n",
              "  </thead>\n",
              "  <tbody>\n",
              "    <tr>\n",
              "      <th>0</th>\n",
              "      <td>201403060</td>\n",
              "      <td>16.543049</td>\n",
              "    </tr>\n",
              "    <tr>\n",
              "      <th>1</th>\n",
              "      <td>201412090</td>\n",
              "      <td>29.536209</td>\n",
              "    </tr>\n",
              "    <tr>\n",
              "      <th>2</th>\n",
              "      <td>201705034</td>\n",
              "      <td>6.660452</td>\n",
              "    </tr>\n",
              "    <tr>\n",
              "      <th>3</th>\n",
              "      <td>201402226</td>\n",
              "      <td>8.518917</td>\n",
              "    </tr>\n",
              "    <tr>\n",
              "      <th>4</th>\n",
              "      <td>201309046</td>\n",
              "      <td>26.670128</td>\n",
              "    </tr>\n",
              "    <tr>\n",
              "      <th>...</th>\n",
              "      <td>...</td>\n",
              "      <td>...</td>\n",
              "    </tr>\n",
              "    <tr>\n",
              "      <th>32947</th>\n",
              "      <td>201711147</td>\n",
              "      <td>29.262001</td>\n",
              "    </tr>\n",
              "    <tr>\n",
              "      <th>32948</th>\n",
              "      <td>201105170</td>\n",
              "      <td>16.012442</td>\n",
              "    </tr>\n",
              "    <tr>\n",
              "      <th>32949</th>\n",
              "      <td>201606045</td>\n",
              "      <td>33.806690</td>\n",
              "    </tr>\n",
              "    <tr>\n",
              "      <th>32950</th>\n",
              "      <td>201011105</td>\n",
              "      <td>11.696966</td>\n",
              "    </tr>\n",
              "    <tr>\n",
              "      <th>32951</th>\n",
              "      <td>201312221</td>\n",
              "      <td>45.348831</td>\n",
              "    </tr>\n",
              "  </tbody>\n",
              "</table>\n",
              "<p>32952 rows × 2 columns</p>\n",
              "</div>"
            ],
            "text/plain": [
              "              id    quality\n",
              "0      201403060  16.543049\n",
              "1      201412090  29.536209\n",
              "2      201705034   6.660452\n",
              "3      201402226   8.518917\n",
              "4      201309046  26.670128\n",
              "...          ...        ...\n",
              "32947  201711147  29.262001\n",
              "32948  201105170  16.012442\n",
              "32949  201606045  33.806690\n",
              "32950  201011105  11.696966\n",
              "32951  201312221  45.348831\n",
              "\n",
              "[32952 rows x 2 columns]"
            ]
          },
          "metadata": {
            "tags": []
          },
          "execution_count": 161
        }
      ]
    }
  ]
}